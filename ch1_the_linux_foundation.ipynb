{
 "cells": [
  {
   "cell_type": "markdown",
   "metadata": {},
   "source": [
    "# Chapter 1 - The Linux Foundation\n",
    "\n",
    "## Introduction and Learning Objectives\n",
    "\n",
    "By the end, you should be able to:\n",
    "\n",
    "* Discuss the role of the Linux Foundation.\n",
    "\n",
    "* Appreciate the learning opportunities provided by the TLFs training program.\n",
    "\n",
    "* Describe the software environment required for the course.\n",
    "\n",
    "* Describe the three major Linux distribution families. \n",
    "\n",
    "---\n",
    "\n",
    "## The Linux Foundation\n",
    "\n",
    "* Everything in python is an **object** and has a type.\n",
    "\n",
    "* Objects are a **data abstraction** that caputre:\n",
    "\n",
    "    * Internal representation through data attributes.\n",
    "    \n",
    "    * Interface for interacting with object through methods (procedures), defines behaviors but hides implementation.\n",
    "    \n",
    "* Can **create new instances of objects**.\n",
    "\n",
    "* Can also **destroy objects**.\n",
    "\n",
    "---\n",
    "\n",
    "Built in data objects:\n",
    "\n",
    "* Lists.\n",
    "\n",
    "* Tuples.\n",
    "\n",
    "* Strings.\n",
    "\n",
    "We want to explore ability to create our own data object types.\n",
    "\n",
    "---\n",
    "\n",
    "How are lists represented internally? They are a linked list of cells. But it doesn't matters. What matters is how to **manipulate** them. How do you do that?\n",
    "\n",
    "* L[i], L[i:j], L[i,j,k]\n",
    "\n",
    "* len(), min(), max(), etc.\n",
    "\n",
    "Internal representation should be **private**. Correct behavior may be compromised if you manipulate it directly - instead you use **defined interfaces** to do so.\n"
   ]
  }
 ],
 "metadata": {
  "kernelspec": {
   "display_name": "Python 3",
   "language": "python",
   "name": "python3"
  },
  "language_info": {
   "codemirror_mode": {
    "name": "ipython",
    "version": 3
   },
   "file_extension": ".py",
   "mimetype": "text/x-python",
   "name": "python",
   "nbconvert_exporter": "python",
   "pygments_lexer": "ipython3",
   "version": "3.7.6"
  }
 },
 "nbformat": 4,
 "nbformat_minor": 4
}